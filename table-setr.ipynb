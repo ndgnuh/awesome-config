{
 "cells": [
  {
   "cell_type": "code",
   "execution_count": 155,
   "metadata": {},
   "outputs": [
    {
     "data": {
      "text/plain": [
       "<function 1>"
      ]
     },
     "execution_count": 155,
     "metadata": {},
     "output_type": "execute_result"
    }
   ],
   "source": [
    "-- # Sample usage\n",
    "-- vtable = {\n",
    "--     [{\"string\", \"string\"}] = function(x, y) return x .. y end,\n",
    "--     [{\"string\", \"number\"}] = function(x, y) return x .. tostring(y + 1) end,\n",
    "--     [{\"number\"}] = function(x) return x + 1 end,\n",
    "--     [{}] = function() print(\"hello world\") end\n",
    "-- }\n",
    "-- f = multimethod(vtable)\n",
    "-- calls:\n",
    "-- f(\"hello\", \"world\")\n",
    "-- f(\"hello\", 1)\n",
    "-- f(1)\n",
    "-- f()\n",
    "local unpack = unpack or table.unpack\n",
    "local module, private\n",
    "private = {}\n",
    "\n",
    "-- override the type function\n",
    "do\n",
    "  local ptype = _G.type\n",
    "  type = function(x)\n",
    "    local pt = ptype(x)\n",
    "    if pt == \"table\" then\n",
    "      return x.__datatype or pt\n",
    "    end\n",
    "    return pt\n",
    "  end\n",
    "end\n",
    "\n",
    "-- get/set recursively{{{\n",
    "private._setr = function(t, ind, maxind, ...)\n",
    "  local k = select(ind, ...)\n",
    "  if ind == maxind then\n",
    "    t.__private = k\n",
    "  else\n",
    "    if not t[k] then\n",
    "      t[k] = {}\n",
    "    end\n",
    "    return private._setr(t[k], ind + 1, maxind, ...)\n",
    "  end\n",
    "end\n",
    "private.setr = function(t, ...)\n",
    "  private._setr(t, 1, select(\"#\", ...), ...)\n",
    "  return t\n",
    "end\n",
    "private._getr = function(t, ind, maxind, found, ...)\n",
    "  local k = select(ind, ...)\n",
    "  local v = t[k]\n",
    "  if not v then return found end\n",
    "  if v.__private then\n",
    "    found = v.__private\n",
    "  end\n",
    "  if ind == maxind then\n",
    "    return v.__private or found\n",
    "  else\n",
    "    return private._getr(v, ind + 1, maxind, found, ...)\n",
    "  end\n",
    "end\n",
    "private.getr = function(t, ...)\n",
    "  return private._getr(t, 1, select(\"#\", ...), nil, ...)\n",
    "end\n",
    "--}}}\n",
    "\n",
    "-- create new function base on method definition{{{\n",
    "module = function(vtable)\n",
    "  local vt = {}\n",
    "  -- call method\n",
    "  local call = function(self, ...)\n",
    "    local f = self:getmethod(...) or self:getgeneric()\n",
    "    assert(f, \"No such method\")\n",
    "    return f(...)\n",
    "  end\n",
    "  -- if there's a vtable then append the method\n",
    "  if type(vtable) == \"table\" then\n",
    "    for dispatch, method in pairs(vtable) do\n",
    "      table.insert(dispatch, method)\n",
    "      chainset(vt, unpack(dispatch))\n",
    "    end\n",
    "  end\n",
    "  -- add new method to function\n",
    "  vt.addmethod = private.setr\n",
    "  vt.getmethod = function(self, ...)\n",
    "    return private.getr(self, ...)\n",
    "  end\n",
    "  vt.setgeneric = function(self, f)\n",
    "    self.__private = f\n",
    "  end\n",
    "  vt.getgeneric = function(self, f)\n",
    "    return self.__private\n",
    "  end\n",
    "  -- return multimethod function\n",
    "  return setmetatable(vt, {__call = call})\n",
    "end\n",
    "--}}}\n",
    "\n",
    "-- require\"util.Debug\".dump(\"Mulitmethod is used\")\n",
    "--{{{\n",
    "return module\n",
    "--}}}"
   ]
  },
  {
   "cell_type": "code",
   "execution_count": 59,
   "metadata": {},
   "outputs": [],
   "source": [
    "Hateful = loadfile\"util/Hateful.lua\"()"
   ]
  },
  {
   "cell_type": "code",
   "execution_count": 156,
   "metadata": {},
   "outputs": [
    {
     "name": "stdout",
     "output_type": "stream",
     "text": [
      "Module\n"
     ]
    },
    {
     "data": {
      "text/plain": [
       "{Module = {number = {__private = <function 1>}},__private = <function 2>,addmethod = <function 3>,getgeneric = <function 4>,getmethod = <function 5>,setgeneric = <function 6>,<metatable> = {__call = <function 7>}}"
      ]
     },
     "execution_count": 156,
     "metadata": {},
     "output_type": "execute_result"
    }
   ],
   "source": [
    "print(type(m))\n",
    "m = {__datatype=\"Module\"}\n",
    "local f\n",
    "f = mm()\n",
    "f:setgeneric(function(...) return vmap(type, ...) end)\n",
    "f:addmethod(\"Module\", \"number\", function(x, y) return \"Module called\" end)\n",
    "m.f = f\n",
    "return m.f"
   ]
  },
  {
   "cell_type": "code",
   "execution_count": 160,
   "metadata": {},
   "outputs": [
    {
     "data": {
      "text/plain": [
       "\"Module called\""
      ]
     },
     "execution_count": 160,
     "metadata": {},
     "output_type": "execute_result"
    }
   ],
   "source": [
    "return m.f:getmethod(vmap(type, m, 4))()"
   ]
  },
  {
   "cell_type": "code",
   "execution_count": 5,
   "metadata": {},
   "outputs": [
    {
     "data": {
      "text/plain": [
       "{_getr = <function 1>,_setr = <function 2>,getr = <function 3>,setr = <function 4>}"
      ]
     },
     "execution_count": 5,
     "metadata": {},
     "output_type": "execute_result"
    }
   ],
   "source": [
    "private = {}\n",
    "\n",
    "-- override the type function\n",
    "local ptype = type\n",
    "local isa = function(x)\n",
    "  local pt = ptype(x)\n",
    "  if pt == \"table\" then\n",
    "    return x.__datatype or x.widget_name or pt\n",
    "  end\n",
    "  return pt\n",
    "end\n",
    "--type = isa\n",
    "\n",
    "-- get/set recursively{{{\n",
    "private._setr = function(t, ind, maxind, ...)\n",
    "  local k = select(ind, ...)\n",
    "  if ind == maxind then\n",
    "    t.__private = k\n",
    "  else\n",
    "    if not t[k] then\n",
    "      t[k] = {}\n",
    "    end\n",
    "    return private._setr(t[k], ind + 1, maxind, ...)\n",
    "  end\n",
    "end\n",
    "private.setr = function(t, ...)\n",
    "  private._setr(t, 1, select(\"#\", ...), ...)\n",
    "  return t\n",
    "end\n",
    "private._getr = function(t, ind, maxind, found, ...)\n",
    "  local k = select(ind, ...)\n",
    "  local v = t[k]\n",
    "  if not v then return found end\n",
    "  if v.__private then\n",
    "    found = v.__private\n",
    "  end\n",
    "  if ind == maxind then\n",
    "    return v.__private or found\n",
    "  else\n",
    "    return private._getr(v, ind + 1, maxind, found, ...)\n",
    "  end\n",
    "end\n",
    "private.getr = function(t, ...)\n",
    "  return private._getr(t, 1, select(\"#\", ...), nil, ...)\n",
    "end\n",
    "--}}}\n",
    "return private"
   ]
  },
  {
   "cell_type": "code",
   "execution_count": 55,
   "metadata": {},
   "outputs": [],
   "source": []
  },
  {
   "cell_type": "code",
   "execution_count": 15,
   "metadata": {},
   "outputs": [],
   "source": [
    "local Typetable = {name = \"Type\", abstract = true}\n",
    "local default_construct = function(T)\n",
    "    return {__type = T}\n",
    "end\n",
    "local subtype = function(self, name, abstract)\n",
    "    local subT = Type(name, abstract)\n",
    "    subT.super = self\n",
    "    return subT\n",
    "end\n",
    "local issubtype = function(self, T)\n",
    "    local is\n",
    "    local T1 = self\n",
    "    while not is and T1 do\n",
    "        is = (T == T1.super)\n",
    "        T1 = T1.super\n",
    "    end\n",
    "    return is\n",
    "end\n",
    "local issupertype = function(self, T)\n",
    "    issubtype(T, self)\n",
    "end\n",
    "typeof = function(x)\n",
    "    local ptype = type(x)\n",
    "    if ptype == \"table\" and x.__type then\n",
    "        return x.__type\n",
    "    end\n",
    "    return ptype\n",
    "end\n",
    "typename = function(T)\n",
    "    if type(T) ~= \"table\" then\n",
    "        return T\n",
    "    else\n",
    "        return T.name\n",
    "    end\n",
    "end\n",
    "isa = function(x, T)\n",
    "    local Tname = typename(T)\n",
    "    local Tx = typeof(x)\n",
    "    local is = false\n",
    "    while not is and T do\n",
    "        is = is or Tname == typename(Tx)\n",
    "        Tx = Tx.super\n",
    "    end\n",
    "    return is\n",
    "end\n",
    "function Type(name, abstract, construct)\n",
    "    local T = {\n",
    "        __type = Typetable,\n",
    "        name = name,\n",
    "        abstract = abstract == true,\n",
    "        construct = construct or default_construct,\n",
    "        __mt = {\n",
    "            __le = issubtype,\n",
    "            __lt = issubtype,\n",
    "            __ge = issupertype,\n",
    "            __gt = issupertype,\n",
    "        }\n",
    "    }\n",
    "    if abstract then\n",
    "        T.__mt.__call = subtype\n",
    "    else\n",
    "        T.__mt.__call = T.construct\n",
    "    end\n",
    "    return setmetatable(T, T.__mt)\n",
    "end"
   ]
  },
  {
   "cell_type": "code",
   "execution_count": 17,
   "metadata": {},
   "outputs": [
    {
     "name": "stdout",
     "output_type": "stream",
     "text": [
      "true\n",
      "true\n"
     ]
    }
   ],
   "source": [
    "Terminal = Type(\"Terminal\", true)\n",
    "VTEBased = Terminal(\"VTEBased\", true)\n",
    "Termite = VTEBased(\"Termite\", false)\n",
    "print(Termite < Terminal)\n",
    "print(isa(Termite(x), Terminal))"
   ]
  },
  {
   "cell_type": "code",
   "execution_count": 98,
   "metadata": {},
   "outputs": [],
   "source": [
    "_get = function(vtbl, T, i, narg, found, ...)\n",
    "    if i == narg then\n",
    "        return found\n",
    "    end\n",
    "    if not T then\n",
    "        T = typeof(select(i, ...))\n",
    "    end\n",
    "    print(vtbl, typename(T), i, narg, ...)\n",
    "    local vnode = rawget(vtbl, T)\n",
    "    found = vtbl.__private -- [[ just to be sure ]]\n",
    "    if vnode then --[[ found next step ]]\n",
    "    end\n",
    "--     if \n",
    "--     if i < narg - 1 then\n",
    "--         if vnode then --[[ found the key ]]\n",
    "--             return _get(vnode, nil, i + 1, narg, found, ...)\n",
    "--         end\n",
    "--     else\n",
    "--         if vnode then\n",
    "--             return vnode.__private\n",
    "--         end\n",
    "--     end\n",
    "--     if T.super then\n",
    "--         return _get(vtbl, T.super, i, narg, found, ...)\n",
    "--     end\n",
    "end\n",
    "dispatch_selection = function(vtbl, ...)\n",
    "    local T, argi, arg1\n",
    "    local narg = select(\"#\", ...)\n",
    "    local node, i = vtbl, 1\n",
    "    return _get(vtbl, nil, 1, narg, nil, ...)\n",
    "end"
   ]
  },
  {
   "cell_type": "code",
   "execution_count": 99,
   "metadata": {},
   "outputs": [
    {
     "name": "stdout",
     "output_type": "stream",
     "text": [
      "table: 0x55ee4fe2bfa0\n",
      "  string : table: 0x55ee4fe6ca50\n",
      "    table: 0x55ee4fe83230 : table: 0x55ee4fe56400\n",
      "      __private : function: 0x55ee4fe167c0 (function)\n",
      "    __private : function: 0x55ee4fe99b00 (function)\n",
      "  table: 0x55ee4fe83230 : table: 0x55ee4fe7b4e0\n",
      "    __private : function: 0x55ee4fe90af0 (function)\n",
      "  number : table: 0x55ee4fe0b300\n",
      "    table: 0x55ee4fe83cc0 : table: 0x55ee4fe65360\n",
      "      __private : function: 0x55ee4fe4a010 (function)\n",
      "    table: 0x55ee4fe83a20 : table: 0x55ee4fe653a0\n",
      "      __private : function: 0x55ee4fea80c0 (function)\n"
     ]
    }
   ],
   "source": [
    "t = {}\n",
    "private.setr(t, \"string\", Terminal, function(x) print\"sTerminal\" end)\n",
    "private.setr(t, \"number\", Termite, function(x) print\"ntm\" end)\n",
    "private.setr(t, \"number\", VTEBased, function(x) print\"nvte\" end)\n",
    "private.setr(t, \"string\", function() print\"string\" end)\n",
    "private.setr(t, Terminal, function() print\"only terminal\" end)\n",
    "dump(t)"
   ]
  },
  {
   "cell_type": "code",
   "execution_count": 104,
   "metadata": {
    "scrolled": true
   },
   "outputs": [
    {
     "name": "stdout",
     "output_type": "stream",
     "text": [
      "table: 0x55ee4fe2bfa0\tstring\t1\t2\tax\ttable: 0x55ee4fe11450\n",
      "nomethod\n"
     ]
    }
   ],
   "source": [
    "do\n",
    "    local f = dispatch_selection(t, \"ax\", Termite())\n",
    "    if f then\n",
    "        f()\n",
    "    else\n",
    "        print\"nomethod\"\n",
    "    end\n",
    "end"
   ]
  },
  {
   "cell_type": "code",
   "execution_count": 96,
   "metadata": {},
   "outputs": [],
   "source": [
    "function dump_raw(data, shift, tag, depth)\n",
    "    depth = depth == nil and 10 or depth or 0\n",
    "    local result = \"\"\n",
    "\n",
    "    if tag then\n",
    "        result = result .. tostring(tag) .. \" : \"\n",
    "    end\n",
    "\n",
    "    if type(data) == \"table\" and depth > 0 then\n",
    "        shift = (shift or \"\") .. \"  \"\n",
    "        result = result .. tostring(data)\n",
    "        for k, v in pairs(data) do\n",
    "            result = result .. \"\\n\" .. shift .. dump_raw(v, shift, k, depth - 1)\n",
    "        end\n",
    "    else\n",
    "        result = result .. tostring(data) .. \" (\" .. type(data) .. \")\"\n",
    "        if depth == 0 and type(data) == \"table\" then\n",
    "            result = result .. \" […]\"\n",
    "        end\n",
    "    end\n",
    "\n",
    "    return result\n",
    "end\n",
    "dump = function(...) print(dump_raw(...)) end"
   ]
  },
  {
   "cell_type": "code",
   "execution_count": null,
   "metadata": {},
   "outputs": [],
   "source": []
  },
  {
   "cell_type": "code",
   "execution_count": null,
   "metadata": {},
   "outputs": [],
   "source": []
  },
  {
   "cell_type": "code",
   "execution_count": null,
   "metadata": {},
   "outputs": [],
   "source": []
  }
 ],
 "metadata": {
  "kernelspec": {
   "display_name": "Lua",
   "language": "lua",
   "name": "lua"
  },
  "language_info": {
   "file_extension": ".lua",
   "mimetype": "text/x-lua",
   "name": "lua",
   "version": "5.3"
  }
 },
 "nbformat": 4,
 "nbformat_minor": 4
}
