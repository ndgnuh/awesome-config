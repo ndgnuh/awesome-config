{
 "cells": [
  {
   "cell_type": "code",
   "execution_count": 2,
   "metadata": {},
   "outputs": [
    {
     "data": {
      "text/plain": [
       "{new = <function 1>,<metatable> = {__call = <function 1>}}\tnil"
      ]
     },
     "execution_count": 2,
     "metadata": {},
     "output_type": "execute_result"
    }
   ],
   "source": [
    "mm = require(\"util.MultiMethod\")\n",
    "return mm, DataType"
   ]
  },
  {
   "cell_type": "code",
   "execution_count": 20,
   "metadata": {},
   "outputs": [],
   "source": [
    "function dumpfile(fname)\n",
    "    local f = io.open(fname)\n",
    "    repeat\n",
    "        local line = f:read()\n",
    "        print(line)\n",
    "    until not line\n",
    "end"
   ]
  },
  {
   "cell_type": "code",
   "execution_count": 141,
   "metadata": {},
   "outputs": [
    {
     "data": {
      "text/plain": [
       "<function 1>"
      ]
     },
     "execution_count": 141,
     "metadata": {},
     "output_type": "execute_result"
    }
   ],
   "source": [
    "do \n",
    "    local proxy_meta = {\n",
    "        __index = function(self, k)\n",
    "            local reader = rawget(self, \"__reader\")\n",
    "            if reader then\n",
    "                value = reader(k)\n",
    "            end\n",
    "            return rawget(self, \"__table\")[k]\n",
    "        end,\n",
    "        __newindex = function(self, k, v)\n",
    "            local writer = rawget(self, \"__writer\")\n",
    "            if writer then writer(k, v) end\n",
    "            rawget(self, \"__table\")[k] = v\n",
    "            return v\n",
    "        end,\n",
    "    }\n",
    "    TableProxy = function(tbl, reader, writer)\n",
    "        return setmetatable({\n",
    "                __table = tbl,\n",
    "                __reader = reader,\n",
    "                __writer = writer,\n",
    "            }, proxy_meta)\n",
    "    end\n",
    "end\n",
    "return TableProxy"
   ]
  },
  {
   "cell_type": "code",
   "execution_count": 234,
   "metadata": {},
   "outputs": [],
   "source": [
    "do\n",
    "  local ptype = type\n",
    "  type = function(x)\n",
    "    local pt = ptype(x)\n",
    "    if pt == \"table\" and x.datatype then\n",
    "      return x.datatype\n",
    "    else\n",
    "      return pt\n",
    "    end\n",
    "  end\n",
    "end"
   ]
  },
  {
   "cell_type": "code",
   "execution_count": 240,
   "metadata": {},
   "outputs": [
    {
     "data": {
      "text/plain": [
       "{abstract_type = <function 1>,byname = {},datatype = \"Module\",subtypes = <function 2>,supertype = <function 3>,type = <function 4>,typemeta = <function 5>}"
      ]
     },
     "execution_count": 240,
     "metadata": {},
     "output_type": "execute_result"
    }
   ],
   "source": [
    "DataType = {byname = {}, datatype = \"Module\"}\n",
    "\n",
    "local types = {Type = {datatype = \"Type\"}}\n",
    "\n",
    "DataType.typemeta = function(name, abstract)\n",
    "    local mt = {\n",
    "        __index = function(self, k)\n",
    "            return rawget(self, \"__table\")[k]\n",
    "        end,\n",
    "        __newindex = function(...) error(\"Attempt to modify immutable datatype\") end,\n",
    "        __name = name\n",
    "    }\n",
    "    if abstract then\n",
    "        mt.__call = function(...) error(\"Can't instantiate abstract data type\") end\n",
    "    end\n",
    "    return mt\n",
    "end\n",
    "\n",
    "DataType.abstract_type = function(self, name)\n",
    "     if self.types[name] then\n",
    "        error(\"Redefine data type\")\n",
    "    end\n",
    "    local T = {name = name, datatype = \"DataType\", abstract = true, subtypes = {}}\n",
    "    types[name] = T\n",
    "    return T\n",
    "end\n",
    "\n",
    "DataType.type = function(self, arg)\n",
    "    assert(arg and arg.name)\n",
    "    local name = arg.name\n",
    "    if self.types[name] then\n",
    "        print(s)\n",
    "        error(\"Redefine data type\")\n",
    "    end\n",
    "    local constructor = arg.constructror\n",
    "    local super = nil\n",
    "    local thetype = {datatype = name, supertype = arg.super}\n",
    "    if arg.super then\n",
    "        table.insert(self[arg.super].subtypes, name)\n",
    "    end\n",
    "    return thetype\n",
    "end\n",
    "\n",
    "DataType.subtypes = function(self, name)\n",
    "    local supers = {}\n",
    "    for _, v in pairs(self.types[name].subtypes) do\n",
    "        table.insert(supers, self[v])\n",
    "    end\n",
    "    return supers\n",
    "end\n",
    "\n",
    "\n",
    "DataType.supertype = function(self, name)\n",
    "    return self[self[name].supertype]\n",
    "end\n",
    "\n",
    "return DataType"
   ]
  },
  {
   "cell_type": "code",
   "execution_count": 231,
   "metadata": {},
   "outputs": [
    {
     "name": "stdout",
     "output_type": "stream",
     "text": [
      "nil\n"
     ]
    },
    {
     "data": {
      "text/plain": [
       "{}"
      ]
     },
     "execution_count": 231,
     "metadata": {},
     "output_type": "execute_result"
    }
   ],
   "source": [
    "Shape = DataType:AbstractType(\"Shape\")\n",
    "print(DataType[\"Shape\"])\n",
    "return DataType:subtypes(\"Shape\")"
   ]
  },
  {
   "cell_type": "code",
   "execution_count": 239,
   "metadata": {},
   "outputs": [
    {
     "data": {
      "text/plain": [
       "nil"
      ]
     },
     "execution_count": 239,
     "metadata": {},
     "output_type": "execute_result"
    }
   ],
   "source": [
    "Type"
   ]
  },
  {
   "cell_type": "code",
   "execution_count": 232,
   "metadata": {},
   "outputs": [
    {
     "ename": "n/a",
     "evalue": "(ilua):103: attempt to index a nil value (field '?')",
     "output_type": "error",
     "traceback": [
      "(ilua):103: attempt to index a nil value (field '?')",
      "stack traceback:",
      "\t(ilua):103: in method 'Type'",
      "\t(ilua):1: in main chunk",
      "\t[C]: in function 'xpcall'",
      "\t.../hung/.local/lib/python3.8/site-packages/ilua/interp.lua:65: in local 'handle_execute'",
      "\t.../hung/.local/lib/python3.8/site-packages/ilua/interp.lua:162: in main chunk",
      "\t[C]: in ?"
     ]
    }
   ],
   "source": [
    "Circle = DataType:Type{ name = \"Circle\", super = \"Shape\" }\n",
    "return Shape.subtypes"
   ]
  },
  {
   "cell_type": "code",
   "execution_count": 233,
   "metadata": {},
   "outputs": [
    {
     "data": {
      "text/plain": [
       "{}"
      ]
     },
     "execution_count": 233,
     "metadata": {},
     "output_type": "execute_result"
    }
   ],
   "source": [
    "DataType:subtypes(\"Shape\")"
   ]
  },
  {
   "cell_type": "code",
   "execution_count": 98,
   "metadata": {},
   "outputs": [],
   "source": [
    "local proxy_MT = {\n",
    "__index = function(self,k)\n",
    "if self.reading then\n",
    "self.reading(k)\n",
    "end\n",
    "return self.obj[k]\n",
    "end;\n",
    "__newindex = function(self,k,v)\n",
    "if self.writing then\n",
    "self.writing(k,v)\n",
    "end\n",
    "self.obj[k] = v\n",
    "end\n",
    "}\n",
    " \n",
    "function table_proxy(o,wfun,rfun)\n",
    "return setmetatable({\n",
    "obj = o,\n",
    "writing = wfun,\n",
    "reading = rfun\n",
    "},\n",
    "proxy_MT)\n",
    "end"
   ]
  },
  {
   "cell_type": "code",
   "execution_count": 100,
   "metadata": {},
   "outputs": [],
   "source": [
    "t = table_proxy({x = 1}, print, print)"
   ]
  },
  {
   "cell_type": "code",
   "execution_count": 1,
   "metadata": {},
   "outputs": [],
   "source": [
    "function dump_raw(data, shift, tag, depth)\n",
    "    depth = depth == nil and 10 or depth or 0\n",
    "    local result = \"\"\n",
    "\n",
    "    if tag then\n",
    "        result = result .. tostring(tag) .. \" : \"\n",
    "    end\n",
    "\n",
    "    if type(data) == \"table\" and depth > 0 then\n",
    "        shift = (shift or \"\") .. \"  \"\n",
    "        result = result .. tostring(data)\n",
    "        for k, v in pairs(data) do\n",
    "            result = result .. \"\\n\" .. shift .. dump_raw(v, shift, k, depth - 1)\n",
    "        end\n",
    "    else\n",
    "        result = result .. tostring(data) .. \" (\" .. type(data) .. \")\"\n",
    "        if depth == 0 and type(data) == \"table\" then\n",
    "            result = result .. \" […]\"\n",
    "        end\n",
    "    end\n",
    "\n",
    "    return result\n",
    "end\n"
   ]
  },
  {
   "cell_type": "code",
   "execution_count": 4,
   "metadata": {},
   "outputs": [
    {
     "data": {
      "text/plain": [
       "<Square 1>"
      ]
     },
     "execution_count": 4,
     "metadata": {},
     "output_type": "execute_result"
    }
   ],
   "source": [
    "Square = DataType(\"Square\", function(x) return {size = x} end)\n",
    "Circle = DataType(\"Circle\", function(x) return {dia = x} end)\n",
    "s1 = Square(4)\n",
    "return  s1"
   ]
  },
  {
   "cell_type": "code",
   "execution_count": 6,
   "metadata": {},
   "outputs": [
    {
     "data": {
      "text/plain": [
       "{Circle = { <function 1> },Square = { <function 2> },addmethod = <function 3>,<metatable> = {__call = <function 4>}}"
      ]
     },
     "execution_count": 6,
     "metadata": {},
     "output_type": "execute_result"
    }
   ],
   "source": [
    "area = mm()\n",
    "area:addmethod(\"Square\", function(s) return s.size ^ 2 end)\n",
    "area:addmethod(\"Circle\", function(s) return s.dia ^2 * math.pi end)\n",
    "return area"
   ]
  }
 ],
 "metadata": {
  "kernelspec": {
   "display_name": "Lua",
   "language": "lua",
   "name": "lua"
  },
  "language_info": {
   "file_extension": ".lua",
   "mimetype": "text/x-lua",
   "name": "lua",
   "version": "5.3"
  }
 },
 "nbformat": 4,
 "nbformat_minor": 4
}
