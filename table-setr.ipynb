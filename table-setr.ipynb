{
 "cells": [
  {
   "cell_type": "code",
   "execution_count": 155,
   "metadata": {},
   "outputs": [
    {
     "data": {
      "text/plain": [
       "<function 1>"
      ]
     },
     "execution_count": 155,
     "metadata": {},
     "output_type": "execute_result"
    }
   ],
   "source": [
    "-- # Sample usage\n",
    "-- vtable = {\n",
    "--     [{\"string\", \"string\"}] = function(x, y) return x .. y end,\n",
    "--     [{\"string\", \"number\"}] = function(x, y) return x .. tostring(y + 1) end,\n",
    "--     [{\"number\"}] = function(x) return x + 1 end,\n",
    "--     [{}] = function() print(\"hello world\") end\n",
    "-- }\n",
    "-- f = multimethod(vtable)\n",
    "-- calls:\n",
    "-- f(\"hello\", \"world\")\n",
    "-- f(\"hello\", 1)\n",
    "-- f(1)\n",
    "-- f()\n",
    "local unpack = unpack or table.unpack\n",
    "local module, private\n",
    "private = {}\n",
    "\n",
    "-- override the type function\n",
    "do\n",
    "  local ptype = _G.type\n",
    "  type = function(x)\n",
    "    local pt = ptype(x)\n",
    "    if pt == \"table\" then\n",
    "      return x.__datatype or pt\n",
    "    end\n",
    "    return pt\n",
    "  end\n",
    "end\n",
    "\n",
    "-- get/set recursively{{{\n",
    "private._setr = function(t, ind, maxind, ...)\n",
    "  local k = select(ind, ...)\n",
    "  if ind == maxind then\n",
    "    t.__private = k\n",
    "  else\n",
    "    if not t[k] then\n",
    "      t[k] = {}\n",
    "    end\n",
    "    return private._setr(t[k], ind + 1, maxind, ...)\n",
    "  end\n",
    "end\n",
    "private.setr = function(t, ...)\n",
    "  private._setr(t, 1, select(\"#\", ...), ...)\n",
    "  return t\n",
    "end\n",
    "private._getr = function(t, ind, maxind, found, ...)\n",
    "  local k = select(ind, ...)\n",
    "  local v = t[k]\n",
    "  if not v then return found end\n",
    "  if v.__private then\n",
    "    found = v.__private\n",
    "  end\n",
    "  if ind == maxind then\n",
    "    return v.__private or found\n",
    "  else\n",
    "    return private._getr(v, ind + 1, maxind, found, ...)\n",
    "  end\n",
    "end\n",
    "private.getr = function(t, ...)\n",
    "  return private._getr(t, 1, select(\"#\", ...), nil, ...)\n",
    "end\n",
    "--}}}\n",
    "\n",
    "-- create new function base on method definition{{{\n",
    "module = function(vtable)\n",
    "  local vt = {}\n",
    "  -- call method\n",
    "  local call = function(self, ...)\n",
    "    local f = self:getmethod(...) or self:getgeneric()\n",
    "    assert(f, \"No such method\")\n",
    "    return f(...)\n",
    "  end\n",
    "  -- if there's a vtable then append the method\n",
    "  if type(vtable) == \"table\" then\n",
    "    for dispatch, method in pairs(vtable) do\n",
    "      table.insert(dispatch, method)\n",
    "      chainset(vt, unpack(dispatch))\n",
    "    end\n",
    "  end\n",
    "  -- add new method to function\n",
    "  vt.addmethod = private.setr\n",
    "  vt.getmethod = function(self, ...)\n",
    "    return private.getr(self, ...)\n",
    "  end\n",
    "  vt.setgeneric = function(self, f)\n",
    "    self.__private = f\n",
    "  end\n",
    "  vt.getgeneric = function(self, f)\n",
    "    return self.__private\n",
    "  end\n",
    "  -- return multimethod function\n",
    "  return setmetatable(vt, {__call = call})\n",
    "end\n",
    "--}}}\n",
    "\n",
    "-- require\"util.Debug\".dump(\"Mulitmethod is used\")\n",
    "--{{{\n",
    "return module\n",
    "--}}}"
   ]
  },
  {
   "cell_type": "code",
   "execution_count": 156,
   "metadata": {},
   "outputs": [
    {
     "name": "stdout",
     "output_type": "stream",
     "text": [
      "Module\n"
     ]
    },
    {
     "data": {
      "text/plain": [
       "{Module = {number = {__private = <function 1>}},__private = <function 2>,addmethod = <function 3>,getgeneric = <function 4>,getmethod = <function 5>,setgeneric = <function 6>,<metatable> = {__call = <function 7>}}"
      ]
     },
     "execution_count": 156,
     "metadata": {},
     "output_type": "execute_result"
    }
   ],
   "source": [
    "print(type(m))\n",
    "m = {__datatype=\"Module\"}\n",
    "local f\n",
    "f = mm()\n",
    "f:setgeneric(function(...) return vmap(type, ...) end)\n",
    "f:addmethod(\"Module\", \"number\", function(x, y) return \"Module called\" end)\n",
    "m.f = f\n",
    "return m.f"
   ]
  },
  {
   "cell_type": "code",
   "execution_count": 160,
   "metadata": {},
   "outputs": [
    {
     "data": {
      "text/plain": [
       "\"Module called\""
      ]
     },
     "execution_count": 160,
     "metadata": {},
     "output_type": "execute_result"
    }
   ],
   "source": [
    "return m.f:getmethod(vmap(type, m, 4))()"
   ]
  },
  {
   "cell_type": "code",
   "execution_count": 140,
   "metadata": {},
   "outputs": [
    {
     "data": {
      "text/plain": [
       "nil"
      ]
     },
     "execution_count": 140,
     "metadata": {},
     "output_type": "execute_result"
    }
   ],
   "source": [
    "return getr(t, \"x\", \"y\", 1, 2, 3)"
   ]
  },
  {
   "cell_type": "code",
   "execution_count": 150,
   "metadata": {},
   "outputs": [],
   "source": [
    "vmap = function(f, ...)\n",
    "    local ret = {}\n",
    "    for i = 1, select(\"#\", ...) do\n",
    "        ret[i] = f(select(i, ...))\n",
    "    end\n",
    "    return table.unpack(ret)\n",
    "end"
   ]
  },
  {
   "cell_type": "code",
   "execution_count": null,
   "metadata": {},
   "outputs": [],
   "source": []
  }
 ],
 "metadata": {
  "kernelspec": {
   "display_name": "Lua",
   "language": "lua",
   "name": "lua"
  },
  "language_info": {
   "file_extension": ".lua",
   "mimetype": "text/x-lua",
   "name": "lua",
   "version": "5.3"
  }
 },
 "nbformat": 4,
 "nbformat_minor": 4
}
