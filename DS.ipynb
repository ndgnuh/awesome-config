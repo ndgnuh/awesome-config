{
 "cells": [
  {
   "cell_type": "code",
   "execution_count": 1,
   "metadata": {},
   "outputs": [],
   "source": [
    "package.path = package.path .. \";/usr/share/awesome/lib/?.lua;/usr/share/awesome/lib/?/init.lua\""
   ]
  },
  {
   "cell_type": "code",
   "execution_count": 2,
   "metadata": {},
   "outputs": [
    {
     "data": {
      "text/plain": [
       "{new = <function 1>,prototype = {enqueue = <function 2>,head = { \"TAIL\" },length = 0,map = <function 3>,queue = {}}}"
      ]
     },
     "execution_count": 2,
     "metadata": {},
     "output_type": "execute_result"
    }
   ],
   "source": [
    "gtable = require(\"gears.table\")\n",
    "\n",
    "module = {}\n",
    "\n",
    "local tail = { \"TAIL\" }\n",
    "\n",
    "module.prototype = {\n",
    "    queue = {},\n",
    "    length = 0,\n",
    "    head = tail,\n",
    "}\n",
    "\n",
    "module.prototype.enqueue = function(self, item)\n",
    "    local head = self.head\n",
    "    self.queue[item] = head\n",
    "    self.head = item\n",
    "end\n",
    "\n",
    "module.prototype.map = function(self, f)\n",
    "    local item = self.head\n",
    "    local results = module.new()\n",
    "    while item ~= tail do\n",
    "        results:enqueue(f(item))\n",
    "        item = self.queue[item]\n",
    "    end\n",
    "    return results\n",
    "end\n",
    "\n",
    "module.new = function()\n",
    "    local queue = gtable.crush({}, module.prototype)\n",
    "    return queue\n",
    "end\n",
    "\n",
    "return module"
   ]
  },
  {
   "cell_type": "code",
   "execution_count": 3,
   "metadata": {},
   "outputs": [
    {
     "data": {
      "text/plain": [
       "{enqueue = <function 1>,head = 4,length = 0,map = <function 2>,queue = { { \"TAIL\" }, 1, 2, 3 }}"
      ]
     },
     "execution_count": 3,
     "metadata": {},
     "output_type": "execute_result"
    }
   ],
   "source": [
    "q = module.new()\n",
    "for i = 1, 4 do\n",
    "    q:enqueue(i)\n",
    "end\n",
    "return q"
   ]
  },
  {
   "cell_type": "code",
   "execution_count": 4,
   "metadata": {},
   "outputs": [
    {
     "data": {
      "text/plain": [
       "{enqueue = <function 1>,head = 2,length = 0,map = <function 2>,queue = { <1>{ \"TAIL\" }, 3, 4, 5, <table 1> }}"
      ]
     },
     "execution_count": 4,
     "metadata": {},
     "output_type": "execute_result"
    }
   ],
   "source": [
    "q:map(function(x) return x + 1 end)"
   ]
  },
  {
   "cell_type": "code",
   "execution_count": 47,
   "metadata": {},
   "outputs": [
    {
     "name": "stdout",
     "output_type": "stream",
     "text": [
      "table: 0x5561dcc33c60\n"
     ]
    }
   ],
   "source": [
    "print(q)"
   ]
  },
  {
   "cell_type": "code",
   "execution_count": 39,
   "metadata": {},
   "outputs": [
    {
     "name": "stdout",
     "output_type": "stream",
     "text": [
      "enqueue\tb\n",
      "a\t1\n"
     ]
    }
   ],
   "source": [
    "q:enqueue(\"b\")"
   ]
  },
  {
   "cell_type": "code",
   "execution_count": 40,
   "metadata": {},
   "outputs": [
    {
     "data": {
      "text/plain": [
       "{enqueue = <function 1>,head = \"b\",length = 0,queue = {a = 1}}"
      ]
     },
     "execution_count": 40,
     "metadata": {},
     "output_type": "execute_result"
    }
   ],
   "source": [
    "q"
   ]
  },
  {
   "cell_type": "code",
   "execution_count": null,
   "metadata": {},
   "outputs": [],
   "source": []
  }
 ],
 "metadata": {
  "kernelspec": {
   "display_name": "Lua",
   "language": "lua",
   "name": "lua"
  },
  "language_info": {
   "file_extension": ".lua",
   "mimetype": "text/x-lua",
   "name": "lua",
   "version": "5.3"
  }
 },
 "nbformat": 4,
 "nbformat_minor": 4
}
