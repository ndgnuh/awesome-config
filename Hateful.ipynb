{
 "cells": [
  {
   "cell_type": "code",
   "execution_count": 68,
   "metadata": {},
   "outputs": [],
   "source": [
    "Hateful = {}\n",
    "\n",
    "do\n",
    "    local constructor\n",
    "    constructor = function(T, file)\n",
    "        local cfg = {__type = T, file = file}\n",
    "        cfg.write = function(self)\n",
    "            local f = io.open(self.file)\n",
    "            f:write(Hateful.dump(obj))\n",
    "            f:close()\n",
    "            return self\n",
    "        end\n",
    "        cfg.read = function(self)\n",
    "            require(file:gsub(\".lua\", \"\"))\n",
    "        end\n",
    "        return cfg\n",
    "    end\n",
    "    Hateful.Config = setmetatable({\n",
    "            __type = \"Type\",\n",
    "            name = \"Hateful.Config\",\n",
    "            abstract = false,\n",
    "        }, {\n",
    "            __call = constructor\n",
    "        })\n",
    "end\n",
    "\n",
    "Hateful.fromfile = function()\n",
    "    return {\n",
    "        __type = \"Hateful.Config\",\n",
    "        file = file\n",
    "    }\n",
    "end\n",
    "\n",
    "Hateful.dump = function(self, table, level, shown)\n",
    "    shown = shown or {}\n",
    "    level = level or 1\n",
    "    if level == 1 then\n",
    "        shown[self] = true\n",
    "    end\n",
    "    -- doesn't handle cyclic reference\n",
    "    if level > 100 then\n",
    "        return \"Overflow\"\n",
    "    end\n",
    "    local ret = \"\"\n",
    "    local keypart, valuepart\n",
    "    local auxstart, auxend = \"\", \"\"\n",
    "    local indent = \"\\t\"\n",
    "    for k, v in pairs(table) do\n",
    "        if type(k) == \"number\" or type(k) == \"boolean\" then\n",
    "            keypart = string.format(\"[%s]\", k)\n",
    "        elseif type(k) == \"string\" then\n",
    "            keypart = tostring(k)\n",
    "        else\n",
    "            error(\"Key as other data type is not supported\")\n",
    "        end\n",
    "        if type(v) == \"string\" then\n",
    "            valuepart = string.format([[\"%s\"]], v)\n",
    "        elseif type(v) == \"table\" then\n",
    "            print(v, shown[v])\n",
    "            if shown[v] then\n",
    "                valuepart = tostring(v)\n",
    "            else\n",
    "                shown[v] = true\n",
    "                valuepart = self:dump(v, level + 1, shown)\n",
    "            end\n",
    "        else\n",
    "            valuepart = v\n",
    "        end\n",
    "        ret = ret .. \"\\n\" ..\n",
    "            string.format(\"%s%s = %s,\", indent:rep(level), keypart, valuepart)\n",
    "    end\n",
    "    return string.format(\"{%s\\n%s}\", ret, indent:rep(level - 1))\n",
    "end"
   ]
  },
  {
   "cell_type": "code",
   "execution_count": 69,
   "metadata": {},
   "outputs": [],
   "source": [
    "t = {\n",
    "    rice = \"Openbox-based\",\n",
    "    scheme = \"Fleon\",\n",
    "    params = {\n",
    "        terminal = \"urxvt\",\n",
    "        browser = \"firefox\",\n",
    "        ntags = 5\n",
    "    },\n",
    "    123,\n",
    "    [true] = 1\n",
    "}\n",
    "t.self = t"
   ]
  },
  {
   "cell_type": "code",
   "execution_count": 71,
   "metadata": {},
   "outputs": [],
   "source": []
  },
  {
   "cell_type": "code",
   "execution_count": 60,
   "metadata": {},
   "outputs": [
    {
     "name": "stdout",
     "output_type": "stream",
     "text": [
      "Hateful.Config\n"
     ]
    }
   ],
   "source": [
    "cfg = Hateful.Config()\n",
    "print(cfg.__type.name)"
   ]
  },
  {
   "cell_type": "code",
   "execution_count": 73,
   "metadata": {},
   "outputs": [
    {
     "name": "stdout",
     "output_type": "stream",
     "text": [
      "table: 0x558fc079a8e0\n",
      "  1 : 123 (number)\n",
      "  params : table: 0x558fc079a920\n",
      "    terminal : urxvt (string)\n",
      "    ntags : 5 (number)\n",
      "    browser : firefox (string)\n",
      "  rice : Openbox-based (string)\n",
      "  scheme : Fleon (string)\n",
      "  self : table: 0x558fc079a8e0\n",
      "    1 : 123 (number)\n",
      "    params : table: 0x558fc079a920\n",
      "      terminal : urxvt (string)\n",
      "      ntags : 5 (number)\n",
      "      browser : firefox (string)\n",
      "    rice : Openbox-based (string)\n",
      "    scheme : Fleon (string)\n",
      "    self : table: 0x558fc079a8e0\n",
      "      1 : 123 (number)\n",
      "      params : table: 0x558fc079a920\n",
      "        terminal : urxvt (string)\n",
      "        ntags : 5 (number)\n",
      "        browser : firefox (string)\n",
      "      rice : Openbox-based (string)\n",
      "      scheme : Fleon (string)\n",
      "      self : table: 0x558fc079a8e0\n",
      "        1 : 123 (number)\n",
      "        params : table: 0x558fc079a920\n",
      "          terminal : urxvt (string)\n",
      "          ntags : 5 (number)\n",
      "          browser : firefox (string)\n",
      "        rice : Openbox-based (string)\n",
      "        scheme : Fleon (string)\n",
      "        self : table: 0x558fc079a8e0\n",
      "          1 : 123 (number)\n",
      "          params : table: 0x558fc079a920\n",
      "            terminal : urxvt (string)\n",
      "            ntags : 5 (number)\n",
      "            browser : firefox (string)\n",
      "          rice : Openbox-based (string)\n",
      "          scheme : Fleon (string)\n",
      "          self : table: 0x558fc079a8e0\n",
      "            1 : 123 (number)\n",
      "            params : table: 0x558fc079a920\n",
      "              terminal : urxvt (string)\n",
      "              ntags : 5 (number)\n",
      "              browser : firefox (string)\n",
      "            rice : Openbox-based (string)\n",
      "            scheme : Fleon (string)\n",
      "            self : table: 0x558fc079a8e0\n",
      "              1 : 123 (number)\n",
      "              params : table: 0x558fc079a920\n",
      "                terminal : urxvt (string)\n",
      "                ntags : 5 (number)\n",
      "                browser : firefox (string)\n",
      "              rice : Openbox-based (string)\n",
      "              scheme : Fleon (string)\n",
      "              self : table: 0x558fc079a8e0\n",
      "                1 : 123 (number)\n",
      "                params : table: 0x558fc079a920\n",
      "                  terminal : urxvt (string)\n",
      "                  ntags : 5 (number)\n",
      "                  browser : firefox (string)\n",
      "                rice : Openbox-based (string)\n",
      "                scheme : Fleon (string)\n",
      "                self : table: 0x558fc079a8e0\n",
      "                  1 : 123 (number)\n",
      "                  params : table: 0x558fc079a920\n",
      "                    terminal : urxvt (string)\n",
      "                    ntags : 5 (number)\n",
      "                    browser : firefox (string)\n",
      "                  rice : Openbox-based (string)\n",
      "                  scheme : Fleon (string)\n",
      "                  self : table: 0x558fc079a8e0\n",
      "                    1 : 123 (number)\n",
      "                    params : table: 0x558fc079a920 (table) […]\n",
      "                    rice : Openbox-based (string)\n",
      "                    scheme : Fleon (string)\n",
      "                    self : table: 0x558fc079a8e0 (table) […]\n",
      "                    true : 1 (number)\n",
      "                  true : 1 (number)\n",
      "                true : 1 (number)\n",
      "              true : 1 (number)\n",
      "            true : 1 (number)\n",
      "          true : 1 (number)\n",
      "        true : 1 (number)\n",
      "      true : 1 (number)\n",
      "    true : 1 (number)\n",
      "  true : 1 (number)\n"
     ]
    }
   ],
   "source": [
    "print(dump_raw(t))"
   ]
  },
  {
   "cell_type": "code",
   "execution_count": 54,
   "metadata": {},
   "outputs": [
    {
     "data": {
      "text/plain": [
       "{ 123,[true] = 1,params = <function 1>,rice = \"Openbox-based\",scheme = \"Fleon\",self = <function 2>}"
      ]
     },
     "execution_count": 54,
     "metadata": {},
     "output_type": "execute_result"
    }
   ],
   "source": [
    "t2.self:params()"
   ]
  },
  {
   "cell_type": "code",
   "execution_count": 67,
   "metadata": {},
   "outputs": [
    {
     "data": {
      "text/plain": [
       "\"table: 0x558fc0781d40\""
      ]
     },
     "execution_count": 67,
     "metadata": {},
     "output_type": "execute_result"
    }
   ],
   "source": [
    "tostring(t)"
   ]
  },
  {
   "cell_type": "code",
   "execution_count": null,
   "metadata": {},
   "outputs": [],
   "source": []
  }
 ],
 "metadata": {
  "kernelspec": {
   "display_name": "Lua",
   "language": "lua",
   "name": "lua"
  },
  "language_info": {
   "file_extension": ".lua",
   "mimetype": "text/x-lua",
   "name": "lua",
   "version": "5.3"
  }
 },
 "nbformat": 4,
 "nbformat_minor": 4
}
