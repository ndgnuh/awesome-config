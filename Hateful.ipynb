{
 "cells": [
  {
   "cell_type": "code",
   "execution_count": 33,
   "metadata": {},
   "outputs": [
    {
     "data": {
      "text/plain": [
       "{config = <function 1>,deserialize = <function 2>,read = <function 3>,serialize = <function 4>,string_deserialize = <function 5>,write = <function 6>}"
      ]
     },
     "execution_count": 33,
     "metadata": {},
     "output_type": "execute_result"
    }
   ],
   "source": [
    "hateful = loadfile(\"util/hateful.lua\")()\n",
    "return hateful"
   ]
  },
  {
   "cell_type": "code",
   "execution_count": 34,
   "metadata": {},
   "outputs": [
    {
     "data": {
      "text/plain": [
       "1\t{t = 1,x = 1,y = 1,z = {x = 1,y = { 3 }}}"
      ]
     },
     "execution_count": 34,
     "metadata": {},
     "output_type": "execute_result"
    }
   ],
   "source": [
    "o = hateful.config(\"/tmp/test2.conf\")\n",
    "save = true\n",
    "o.set(\"x\", 1, save)\n",
    "o.set(\"y\", 1, save)\n",
    "o.set(\"z\", {x = 1, y = {1 + 2}}, save)\n",
    "o.set(\"t\", 1, save)\n",
    "return o.get(\"x\"), o.cache"
   ]
  },
  {
   "cell_type": "code",
   "execution_count": 35,
   "metadata": {},
   "outputs": [
    {
     "data": {
      "text/plain": [
       "{default = {},file = \"/tmp/test2.conf\",get = <function 1>,save = <function 2>,set = <function 3>,<metatable> = {__index = <function 4>}}"
      ]
     },
     "execution_count": 35,
     "metadata": {},
     "output_type": "execute_result"
    }
   ],
   "source": [
    "o2 = hateful.config(\"/tmp/test2.conf\")\n",
    "return o2"
   ]
  },
  {
   "cell_type": "code",
   "execution_count": 26,
   "metadata": {},
   "outputs": [],
   "source": [
    "t = {\n",
    "    rice = \"Openbox-based\",\n",
    "    scheme = \"Fleon\",\n",
    "    params = {\n",
    "        terminal = \"urxvt\",\n",
    "        browser = \"firefox\",\n",
    "        arg = {\n",
    "            x = \"asdad\",\n",
    "            y = 1,\n",
    "        },\n",
    "        ntags = 5\n",
    "    },\n",
    "    123,\n",
    "    [true] = 1\n",
    "}"
   ]
  },
  {
   "cell_type": "code",
   "execution_count": 36,
   "metadata": {},
   "outputs": [
    {
     "data": {
      "text/plain": [
       "{t = 1,x = 1,y = 1,z = {x = 1,y = { 3 }}}"
      ]
     },
     "execution_count": 36,
     "metadata": {},
     "output_type": "execute_result"
    }
   ],
   "source": [
    "o2.cache"
   ]
  },
  {
   "cell_type": "code",
   "execution_count": 124,
   "metadata": {},
   "outputs": [
    {
     "name": "stdout",
     "output_type": "stream",
     "text": [
      "1 = 123\n",
      "rice = Openbox-based\n",
      "params = {\n",
      "\tbrowser = firefox\n",
      "\tterminal = urxvt\n",
      "\tntags = 5\n",
      "\targ = {\n",
      "\t\tx = asdad\n",
      "\t\ty = 1\n",
      "\t}\n",
      "}\n",
      "scheme = Fleon\n",
      "true = 1\n",
      "==============================\n"
     ]
    },
    {
     "data": {
      "text/plain": [
       "{ 123,[true] = 1,params = {arg = {x = \"asdad\",y = 1},browser = \"firefox\",ntags = 5,terminal = \"urxvt\"},rice = \"Openbox-based\",scheme = \"Fleon\"}"
      ]
     },
     "execution_count": 124,
     "metadata": {},
     "output_type": "execute_result"
    }
   ],
   "source": [
    "s = hateful.serialize(t)\n",
    "print(s)\n",
    "print((\"=\"):rep(30))\n",
    "return hateful.string_deserialize(s) "
   ]
  },
  {
   "cell_type": "code",
   "execution_count": 37,
   "metadata": {},
   "outputs": [
    {
     "name": "stdout",
     "output_type": "stream",
     "text": [
      "\ttable: 0x562c9914df80\n",
      "\ttable: 0x562c99191610\n"
     ]
    },
    {
     "data": {
      "text/plain": [
       "{[\"\"] = \"\",[\"1\"] = \"123\",arg = \"asdad\",ntags = \"5\",params = \"firefox\",rice = \"Openbox-based\",scheme = \"Fleon\",terminal = \"urxvt\",y = \"1\"}"
      ]
     },
     "execution_count": 37,
     "metadata": {},
     "output_type": "execute_result"
    }
   ],
   "source": [
    "hateful.deserialize = function(s)\n",
    "    local obj = {}\n",
    "    local state =  {\n",
    "        key = \"\",\n",
    "        val = \"\",\n",
    "        recursion = \"\",\n",
    "        counting = false,\n",
    "    }\n",
    "    s = s:gsub(\"%s*=%s*\", \"=\"):gsub(\"^%s*\", \"\"):gsub(\"%s*$\", \"\")\n",
    "    local mode = \"key\"\n",
    "    for ch in s:gmatch('.') do\n",
    "        if ch == \" \" or ch == \"\\t\" then \n",
    "            if state.counting then\n",
    "                state[mode] = state[mode] .. ch\n",
    "            end\n",
    "        elseif ch == \"=\" then\n",
    "            state.counting = false\n",
    "            mode = \"val\"\n",
    "        elseif ch == \"{\" then\n",
    "            mode = \"recursion\"\n",
    "        elseif ch == \"}\" then\n",
    "            mode = \"key\"\n",
    "            obj[state.key] = hateful.deserialize(state.recursion)\n",
    "            print(state.key, hateful.deserialize(state.recursion))\n",
    "            state.key = \"\"\n",
    "            state.val = \"\"\n",
    "            state.counting = false\n",
    "        elseif ch == \"\\n\" then\n",
    "            -- print(\"newline\", state.key, \"=\", state.val)\n",
    "            if mode ~= \"recursion\" then\n",
    "                obj[state.key] = state.val\n",
    "                state.counting = false\n",
    "                state.key = \"\"\n",
    "                state.val = \"\"\n",
    "                mode = \"key\"\n",
    "            end\n",
    "         else\n",
    "            if state.counting == false then\n",
    "                state.counting = true\n",
    "            end\n",
    "            state[mode] = state[mode] .. ch\n",
    "        end\n",
    "    end\n",
    "    return obj\n",
    "end\n",
    "\n",
    "return hateful.deserialize(s)"
   ]
  },
  {
   "cell_type": "code",
   "execution_count": 111,
   "metadata": {},
   "outputs": [
    {
     "data": {
      "text/plain": [
       "{ 123,[true] = 1,params = {arg = {x = \"asdad\",y = 1},browser = \"firefox\",ntags = 5,terminal = \"urxvt\"},rice = \"Openbox-based\",scheme = \"Fleon\"}"
      ]
     },
     "execution_count": 111,
     "metadata": {},
     "output_type": "execute_result"
    }
   ],
   "source": [
    "parsetype = function(v)\n",
    "    if type(v) ~= \"string\" then return v end\n",
    "    if v:match(\"%s*nil%s*\") then return v end\n",
    "    if v:match(\"%s*(%d+)%s*\") then return tonumber(v) end\n",
    "    if v:match(\"%s*(true)%s*\") then return true end\n",
    "    if v:match(\"%s*(false)%s*\") then return false end\n",
    "    return v\n",
    "end\n",
    "hateful.deserialize = function(s)\n",
    "    local obj = {}\n",
    "    local r = 0\n",
    "    local rs, key, val = \"\", \"\", \"\"\n",
    "    s = s:gsub(\"%s*=%s*\", \"=\"):gsub(\"^%s*\", \"\"):gsub(\"%s*$\", \"\")\n",
    "    for line in s:gmatch('[^\\n]+') do\n",
    "        if line:find(\"{\") then\n",
    "            if r == 0 then\n",
    "                key = line:match(\"^%s*([a-zA-Z0-9_- ]+)%s*=\")\n",
    "            else\n",
    "                rs = rs .. line .. \"\\n\"\n",
    "            end\n",
    "            r = r + 1\n",
    "        elseif line:find(\"}\") then\n",
    "            r = r - 1\n",
    "            if r == 0 then\n",
    "                obj[key] = hateful.deserialize(rs)\n",
    "                rs = \"\"\n",
    "            else\n",
    "                rs = rs .. line .. \"\\n\"\n",
    "            end\n",
    "        elseif key and val then\n",
    "            if r == 0 then\n",
    "                key, val = line:match(\"%s*([a-zA-Z0-9_- ]+)%s*=%s*([{}a-zA-Z0-9_ -]+)%s*$\")\n",
    "                key, val = parsetype(key), parsetype(val)\n",
    "                obj[key] = val\n",
    "            else\n",
    "                rs = rs .. line .. \"\\n\"\n",
    "            end\n",
    "        else error(\"Error on line\", line)\n",
    "        end\n",
    "    end\n",
    "    return obj\n",
    "end\n",
    "\n",
    "return hateful.deserialize(s)"
   ]
  },
  {
   "cell_type": "code",
   "execution_count": 103,
   "metadata": {
    "scrolled": true
   },
   "outputs": [
    {
     "data": {
      "text/plain": [
       "{ 123,[true] = 1,params = {arg = {x = \"asdad\",y = 1},browser = \"firefox\",ntags = 5,terminal = \"urxvt\"},rice = \"Openbox-based\",scheme = \"Fleon\"}"
      ]
     },
     "execution_count": 103,
     "metadata": {},
     "output_type": "execute_result"
    }
   ],
   "source": [
    "t"
   ]
  },
  {
   "cell_type": "code",
   "execution_count": 16,
   "metadata": {},
   "outputs": [],
   "source": [
    "s_serialize = function(t, il)\n",
    "    local s = \"\"\n",
    "    local entrycount = 0\n",
    "    if not il then il = 0 end --[[ indent level ]]\n",
    "    local indent = string.rep('\\t', il)\n",
    "    for k, v in pairs(t) do\n",
    "        if entrycount == 0 then\n",
    "            entrycount = entrycount + 1\n",
    "        else\n",
    "            s = s .. indent\n",
    "        end\n",
    "        if type(v) == \"table\" then\n",
    "            s = s .. \"(\" .. tostring(k) .. \", \"\n",
    "            s = s .. s_serialize(v, il + 1) .. \")\\n\"\n",
    "        else\n",
    "            s = s .. \"(\" .. tostring(k) .. \", \" .. tostring(v) .. \"),\\n\"\n",
    "        end\n",
    "    end\n",
    "    return \"[\" .. s:sub(1, #s-2) .. \"]\"\n",
    "end\n",
    "s_deserialize = function(s)\n",
    "    local state = {\n",
    "        key = \"\",\n",
    "        iskey = true,\n",
    "        isarray = 0,\n",
    "        str = \"\",\n",
    "        val = \"\",\n",
    "        obj = {},\n",
    "    }\n",
    "    for ch in s:gmatch('.') do\n",
    "        if ch:match('[a-zA-Z0-9-]') then\n",
    "            if state.iskey then\n",
    "                state.key = state.key .. ch\n",
    "            else\n",
    "                state.val = state.val .. ch\n",
    "            end\n",
    "        elseif ch == ',' then\n",
    "            state.iskey = not state.iskey\n",
    "        elseif ch == \"[\" then\n",
    "            state.isarray = state.isarray + 1\n",
    "        elseif ch == \"]\" then\n",
    "            state.isarray = state.isarray - 1\n",
    "        end\n",
    "    end\n",
    "    assert(state.isarray == 0, \"] expected\")\n",
    "    return state.obj\n",
    "end"
   ]
  },
  {
   "cell_type": "code",
   "execution_count": 17,
   "metadata": {},
   "outputs": [
    {
     "name": "stdout",
     "output_type": "stream",
     "text": [
      "[(1, 123),\n",
      "(rice, Openbox-based),\n",
      "(params, [(browser, firefox),\n",
      "\t(terminal, urxvt),\n",
      "\t(ntags, 5),\n",
      "\t(arg, [(x, asdad),\n",
      "\t\t(y, 1)]])\n",
      "(scheme, Fleon),\n",
      "(true, 1)]\n",
      "------------------------------\n"
     ]
    },
    {
     "data": {
      "text/plain": [
       "{}"
      ]
     },
     "execution_count": 17,
     "metadata": {},
     "output_type": "execute_result"
    }
   ],
   "source": [
    "ss = s_serialize(t)\n",
    "print(ss)\n",
    "print(string.rep('-', 30))\n",
    "st = s_deserialize(ss)\n",
    "return st"
   ]
  },
  {
   "cell_type": "markdown",
   "metadata": {},
   "source": [
    "- Success: I have been (...) (what you good at)\n",
    "- Strength: My real strength is (...)\n",
    "- Situation: How that strength apply to the situation  \"What I am look  for is\"\n",
    "- BTVN: Tell me about your self, introduce yourself, "
   ]
  },
  {
   "cell_type": "code",
   "execution_count": 93,
   "metadata": {},
   "outputs": [
    {
     "data": {
      "text/plain": [
       "1"
      ]
     },
     "execution_count": 93,
     "metadata": {},
     "output_type": "execute_result"
    }
   ],
   "source": [
    "return 1"
   ]
  },
  {
   "cell_type": "code",
   "execution_count": null,
   "metadata": {},
   "outputs": [],
   "source": []
  },
  {
   "cell_type": "code",
   "execution_count": null,
   "metadata": {},
   "outputs": [],
   "source": []
  },
  {
   "cell_type": "code",
   "execution_count": null,
   "metadata": {},
   "outputs": [],
   "source": []
  }
 ],
 "metadata": {
  "kernelspec": {
   "display_name": "Lua",
   "language": "lua",
   "name": "lua"
  },
  "language_info": {
   "file_extension": ".lua",
   "mimetype": "text/x-lua",
   "name": "lua",
   "version": "5.3"
  }
 },
 "nbformat": 4,
 "nbformat_minor": 4
}
