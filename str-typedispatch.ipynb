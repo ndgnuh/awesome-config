{
 "cells": [
  {
   "cell_type": "code",
   "execution_count": 19,
   "metadata": {},
   "outputs": [],
   "source": [
    "ptype = _G.type"
   ]
  },
  {
   "cell_type": "code",
   "execution_count": 20,
   "metadata": {},
   "outputs": [],
   "source": [
    "type = function(x)\n",
    "    local pt = ptype(x)\n",
    "    return pt == \"table\" and x.__datatype or pt\n",
    "end"
   ]
  },
  {
   "cell_type": "code",
   "execution_count": 6,
   "metadata": {},
   "outputs": [
    {
     "data": {
      "text/plain": [
       "\"Keys\""
      ]
     },
     "execution_count": 6,
     "metadata": {},
     "output_type": "execute_result"
    }
   ],
   "source": [
    "type{__datatype=\"Keys\"}"
   ]
  },
  {
   "cell_type": "code",
   "execution_count": null,
   "metadata": {},
   "outputs": [],
   "source": []
  },
  {
   "cell_type": "code",
   "execution_count": 2,
   "metadata": {},
   "outputs": [
    {
     "data": {
      "text/plain": [
       "<function 1>"
      ]
     },
     "execution_count": 2,
     "metadata": {},
     "output_type": "execute_result"
    }
   ],
   "source": [
    "-- local typesep, mm\n",
    "\n",
    "-- local db = require\"util.Debug\"\n",
    "typesep = \";\"\n",
    "\n",
    "mm = function(gen)\n",
    "  local f = {gen}\n",
    "  f.addmethod = function(self, ...)\n",
    "    local types = \"\"\n",
    "    local nargs = select(\"#\", ...)\n",
    "    for i = 1, nargs - 2 do\n",
    "      types = types .. select(i, ...) .. typesep\n",
    "    end\n",
    "    types = types .. select(nargs - 1, ...)\n",
    "    self[types] = select(nargs, ...)\n",
    "    return self\n",
    "  end\n",
    "  f.setgeneric = function(self, m) self[1] = m end\n",
    "  f.getgeneric = function(self) return self[1] end\n",
    "  f.getmethod = function(...)\n",
    "    local types = \"\"\n",
    "    local nargs = select(\"#\", ...)\n",
    "    local method = f[1]\n",
    "    for i = 1, nargs do\n",
    "      types = types .. type(select(i, ...))\n",
    "      if f[types] then\n",
    "        method = f[types]\n",
    "      end\n",
    "      types =  types .. typesep\n",
    "    end\n",
    "    return method\n",
    "  end\n",
    "  return setmetatable(f,{__call = function(self, ...)\n",
    "    local method = f.getmethod(...)\n",
    "    if not method then error(\"no method found\") end\n",
    "    return method(...)\n",
    "  end})\n",
    "end\n",
    "\n",
    "return mm\n"
   ]
  },
  {
   "cell_type": "code",
   "execution_count": 9,
   "metadata": {},
   "outputs": [
    {
     "name": "stdout",
     "output_type": "stream",
     "text": [
      "getgeneric\tfunction: 0x563bf45346f0\n",
      "addmethod\tfunction: 0x563bf45246a0\n",
      "number;number\tfunction: 0x563bf4537bc0\n",
      "getmethod\tfunction: 0x563bf4548910\n",
      "setgeneric\tfunction: 0x563bf45263b0\n",
      "Keys\tfunction: 0x563bf4543480\n",
      "string;number\tfunction: 0x563bf4543780\n"
     ]
    },
    {
     "data": {
      "text/plain": [
       "{Keys = <function 1>,addmethod = <function 2>,getgeneric = <function 3>,getmethod = <function 4>,[\"number;number\"] = <function 5>,setgeneric = <function 6>,[\"string;number\"] = <function 7>,<metatable> = {__call = <function 8>}}"
      ]
     },
     "execution_count": 9,
     "metadata": {},
     "output_type": "execute_result"
    }
   ],
   "source": [
    "f = mm()\n",
    "f:addmethod(\"number\", \"number\", function(x, y,...) return x * y*... end)\n",
    "f:addmethod(\"string\", \"number\", function(x, y) return x .. tostring(y) end)\n",
    "f:addmethod(\"Keys\", function(x, y) return x end)\n",
    "for k, v in pairs(f) do\n",
    "    print(k, v)\n",
    "end\n",
    "return f"
   ]
  },
  {
   "cell_type": "code",
   "execution_count": 11,
   "metadata": {},
   "outputs": [
    {
     "data": {
      "text/plain": [
       "\"2qe2\""
      ]
     },
     "execution_count": 11,
     "metadata": {},
     "output_type": "execute_result"
    }
   ],
   "source": [
    "f(\"2qe\",2,3,4)"
   ]
  },
  {
   "cell_type": "code",
   "execution_count": 14,
   "metadata": {},
   "outputs": [
    {
     "data": {
      "text/plain": [
       "{ <function 1>,[\"Module;number\"] = <function 2>,addmethod = <function 3>,getgeneric = <function 4>,getmethod = <function 5>,setgeneric = <function 6>,<metatable> = {__call = <function 7>}}"
      ]
     },
     "execution_count": 14,
     "metadata": {},
     "output_type": "execute_result"
    }
   ],
   "source": [
    "local f\n",
    "m = {__datatype = \"Module\"}\n",
    "f = mm()\n",
    "f:setgeneric(function(...) return vmap(type, ...) end)\n",
    "f:addmethod(\"Module\", \"number\", function(x, y) return \"Module called\" end)\n",
    "m.f = f\n",
    "return m.f"
   ]
  },
  {
   "cell_type": "code",
   "execution_count": 22,
   "metadata": {},
   "outputs": [
    {
     "data": {
      "text/plain": [
       "\"Module called\""
      ]
     },
     "execution_count": 22,
     "metadata": {},
     "output_type": "execute_result"
    }
   ],
   "source": [
    "m:f(1)"
   ]
  },
  {
   "cell_type": "code",
   "execution_count": 16,
   "metadata": {},
   "outputs": [],
   "source": [
    "vmap = function(f, ...)\n",
    "    local ret = {}\n",
    "    for i = 1, select(\"#\", ...) do\n",
    "        ret[i] = f(select(i, ...))\n",
    "    end\n",
    "    return table.unpack(ret)\n",
    "end"
   ]
  },
  {
   "cell_type": "code",
   "execution_count": null,
   "metadata": {},
   "outputs": [],
   "source": []
  }
 ],
 "metadata": {
  "kernelspec": {
   "display_name": "Lua",
   "language": "lua",
   "name": "lua"
  },
  "language_info": {
   "file_extension": ".lua",
   "mimetype": "text/x-lua",
   "name": "lua",
   "version": "5.3"
  }
 },
 "nbformat": 4,
 "nbformat_minor": 4
}
