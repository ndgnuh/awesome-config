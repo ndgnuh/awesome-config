{
 "cells": [
  {
   "cell_type": "code",
   "execution_count": 1,
   "metadata": {},
   "outputs": [],
   "source": [
    "hateful = loadfile(\"util/hateful.lua\")()"
   ]
  },
  {
   "cell_type": "code",
   "execution_count": 43,
   "metadata": {},
   "outputs": [],
   "source": [
    "t = {\n",
    "    rice = \"Openbox-based\",\n",
    "    scheme = \"Fleon\",\n",
    "    params = {\n",
    "        terminal = \"urxvt\",\n",
    "        browser = \"firefox\",\n",
    "        arg = {\n",
    "            x = \"asdad\",\n",
    "            y = 1,\n",
    "        },\n",
    "        ntags = 5\n",
    "    },\n",
    "    123,\n",
    "    [true] = 1\n",
    "}"
   ]
  },
  {
   "cell_type": "code",
   "execution_count": 44,
   "metadata": {},
   "outputs": [
    {
     "name": "stdout",
     "output_type": "stream",
     "text": [
      "1 = 123\n",
      "rice = Openbox-based\n",
      "params = {\n",
      "\tbrowser = firefox\n",
      "\tterminal = urxvt\n",
      "\tntags = 5\n",
      "\targ = {\n",
      "\t\tx = asdad\n",
      "\t\ty = 1\n",
      "\t}\n",
      "}\n",
      "scheme = Fleon\n",
      "true = 1\n",
      "==============================\n",
      "1\tnil\tnil\n"
     ]
    },
    {
     "ename": "n/a",
     "evalue": "(ilua):18: attempt to index a nil value (local 'val')",
     "output_type": "error",
     "traceback": [
      "(ilua):18: attempt to index a nil value (local 'val')",
      "stack traceback:",
      "\t(ilua):18: in field 'deserialize'",
      "\t(ilua):4: in main chunk",
      "\t[C]: in function 'xpcall'",
      "\t.../hung/.local/lib/python3.8/site-packages/ilua/interp.lua:65: in local 'handle_execute'",
      "\t.../hung/.local/lib/python3.8/site-packages/ilua/interp.lua:162: in main chunk",
      "\t[C]: in ?"
     ]
    }
   ],
   "source": [
    "s = hateful.serialize(t)\n",
    "print(s)\n",
    "print((\"=\"):rep(30))\n",
    "hateful.deserialize(s)"
   ]
  },
  {
   "cell_type": "code",
   "execution_count": 37,
   "metadata": {},
   "outputs": [
    {
     "name": "stdout",
     "output_type": "stream",
     "text": [
      "\ttable: 0x562c9914df80\n",
      "\ttable: 0x562c99191610\n"
     ]
    },
    {
     "data": {
      "text/plain": [
       "{[\"\"] = \"\",[\"1\"] = \"123\",arg = \"asdad\",ntags = \"5\",params = \"firefox\",rice = \"Openbox-based\",scheme = \"Fleon\",terminal = \"urxvt\",y = \"1\"}"
      ]
     },
     "execution_count": 37,
     "metadata": {},
     "output_type": "execute_result"
    }
   ],
   "source": [
    "hateful.deserialize = function(s)\n",
    "    local obj = {}\n",
    "    local state =  {\n",
    "        key = \"\",\n",
    "        val = \"\",\n",
    "        recursion = \"\",\n",
    "        counting = false,\n",
    "    }\n",
    "    s = s:gsub(\"%s*=%s*\", \"=\"):gsub(\"^%s*\", \"\"):gsub(\"%s*$\", \"\")\n",
    "    local mode = \"key\"\n",
    "    for ch in s:gmatch('.') do\n",
    "        if ch == \" \" or ch == \"\\t\" then \n",
    "            if state.counting then\n",
    "                state[mode] = state[mode] .. ch\n",
    "            end\n",
    "        elseif ch == \"=\" then\n",
    "            state.counting = false\n",
    "            mode = \"val\"\n",
    "        elseif ch == \"{\" then\n",
    "            mode = \"recursion\"\n",
    "        elseif ch == \"}\" then\n",
    "            mode = \"key\"\n",
    "            obj[state.key] = hateful.deserialize(state.recursion)\n",
    "            print(state.key, hateful.deserialize(state.recursion))\n",
    "            state.key = \"\"\n",
    "            state.val = \"\"\n",
    "            state.counting = false\n",
    "        elseif ch == \"\\n\" then\n",
    "            -- print(\"newline\", state.key, \"=\", state.val)\n",
    "            if mode ~= \"recursion\" then\n",
    "                obj[state.key] = state.val\n",
    "                state.counting = false\n",
    "                state.key = \"\"\n",
    "                state.val = \"\"\n",
    "                mode = \"key\"\n",
    "            end\n",
    "         else\n",
    "            if state.counting == false then\n",
    "                state.counting = true\n",
    "            end\n",
    "            state[mode] = state[mode] .. ch\n",
    "        end\n",
    "    end\n",
    "    return obj\n",
    "end\n",
    "\n",
    "return hateful.deserialize(s)"
   ]
  },
  {
   "cell_type": "code",
   "execution_count": 101,
   "metadata": {},
   "outputs": [
    {
     "name": "stdout",
     "output_type": "stream",
     "text": [
      "1 = 123\n",
      "rice = Openbox-based\n",
      "params = {\n",
      "\tbrowser = firefox\n",
      "\tterminal = urxvt\n",
      "\tntags = 5\n",
      "\targ = {\n",
      "\t\tx = asdad\n",
      "\t\ty = 1\n",
      "\t}\n",
      "}\n",
      "scheme = Fleon\n",
      "true = 1\n",
      "-----\n",
      "\tbrowser=firefox\n",
      "\tterminal=urxvt\n",
      "\tntags=5\n",
      "\t\tx=asdad\n",
      "\t\ty=1\n",
      "-----\n",
      "-----!\n"
     ]
    },
    {
     "ename": "n/a",
     "evalue": "(ilua):26: table index is nil",
     "output_type": "error",
     "traceback": [
      "(ilua):26: table index is nil",
      "stack traceback:",
      "\t(ilua):26: in function <(ilua):9>",
      "\t(...tail calls...)",
      "\t[C]: in function 'xpcall'",
      "\t.../hung/.local/lib/python3.8/site-packages/ilua/interp.lua:65: in local 'handle_execute'",
      "\t.../hung/.local/lib/python3.8/site-packages/ilua/interp.lua:162: in main chunk",
      "\t[C]: in ?"
     ]
    }
   ],
   "source": [
    "parsetype = function(v)\n",
    "    if type(v) ~= \"string\" then return v end\n",
    "    if v:match(\"%s*nil%s*\") then return v end\n",
    "    if v:match(\"%s*(%d+)%s*\") then return tonumber(v) end\n",
    "    if v:match(\"%s*(true)%s*\") then return true end\n",
    "    if v:match(\"%s*(false)%s*\") then return false end\n",
    "    return v\n",
    "end\n",
    "hateful.deserialize = function(s, lv)\n",
    "    lv = lv or 1\n",
    "    print(s)\n",
    "    print(\"-----\")\n",
    "    local obj = {}\n",
    "    local r = 0\n",
    "    local rs = \"\"\n",
    "    local key, val = \"\", \"\"\n",
    "    s = s:gsub(\"%s*=%s*\", \"=\"):gsub(\"^%s*\", \"\"):gsub(\"%s*$\", \"\")\n",
    "    for line in s:gmatch('[^\\n]+') do\n",
    "        if line:find(\"{\") then\n",
    "            if r == 0 then\n",
    "                key = line:match(\"%s*([a-zA-Z0-9_- ]+)%s*=\")\n",
    "            end\n",
    "            r = r + 1\n",
    "        elseif line:find(\"}\") then\n",
    "            r = r - 1\n",
    "            if r == 0 then\n",
    "                obj[key] = hateful.deserialize(rs:sub(1, #rs - 1), lv + 1)\n",
    "                rs = \"\"\n",
    "            end\n",
    "        else\n",
    "            if r == 0 then\n",
    "                key, val = line:match(\"%s*([a-zA-Z0-9_- ]+)%s*=%s*([{}a-zA-Z0-9_ -]+)%s*$\")\n",
    "                key, val = parsetype(key), parsetype(val)\n",
    "                obj[key] = val\n",
    "            else\n",
    "                rs = rs .. line .. \"\\n\"\n",
    "            end\n",
    "        end\n",
    "--         if r == 0 then\n",
    "--             obj[key] = hateful.deserialize(rs:sub(1, #rs - 1), lv + 1)\n",
    "--             rs = \"\"\n",
    "--         else r == 0\n",
    "--             key, val = line:match(\"%s*([a-zA-Z0-9_- ]+)%s*=%s*([{}a-zA-Z0-9_ -]+)%s*$\")\n",
    "--             key, val = parsetype(key), parsetype(val)\n",
    "--             obj[key] = val\n",
    "--         else\n",
    "--         end\n",
    "--         if r > 0 then\n",
    "--             rs = rs .. line .. \"\\n\"\n",
    "--             if line:find(\"}\") then\n",
    "--                 print(\"r = r - 1 =\" .. r)\n",
    "--                 if r == 0 then\n",
    "--                     obj[key] = hateful.deserialize(rs:sub(1, #rs - 1), lv + 1)\n",
    "--                     rs = \"\"\n",
    "--                 end\n",
    "--             end\n",
    "--         else\n",
    "--             key, val = line:match(\"%s*([a-zA-Z0-9_- ]+)%s*=%s*([{}a-zA-Z0-9_ -]+)%s*$\")\n",
    "--             key, val = parsetype(key), parsetype(val)\n",
    "--             print(\"match\", key, val, r, lv, line)\n",
    "--             if line:find(\"{\") then\n",
    "--                 r = r + 1\n",
    "--                 print(\"r = r + 1 = \" .. r)\n",
    "--             elseif line:find(\"}\") then\n",
    "--                 r = r - 1\n",
    "--             else\n",
    "--                 obj[key] = val\n",
    "--             end\n",
    "--         end\n",
    "    end\n",
    "    print(\"-----!\")\n",
    "    return obj\n",
    "end\n",
    "\n",
    "return hateful.deserialize(s)"
   ]
  },
  {
   "cell_type": "code",
   "execution_count": 70,
   "metadata": {
    "scrolled": true
   },
   "outputs": [
    {
     "data": {
      "text/plain": [
       "{ 123,[true] = 1,params = {arg = {x = \"asdad\",y = 1},browser = \"firefox\",ntags = 5,terminal = \"urxvt\"},rice = \"Openbox-based\",scheme = \"Fleon\"}"
      ]
     },
     "execution_count": 70,
     "metadata": {},
     "output_type": "execute_result"
    }
   ],
   "source": [
    "t"
   ]
  },
  {
   "cell_type": "code",
   "execution_count": 16,
   "metadata": {},
   "outputs": [],
   "source": [
    "s_serialize = function(t, il)\n",
    "    local s = \"\"\n",
    "    local entrycount = 0\n",
    "    if not il then il = 0 end --[[ indent level ]]\n",
    "    local indent = string.rep('\\t', il)\n",
    "    for k, v in pairs(t) do\n",
    "        if entrycount == 0 then\n",
    "            entrycount = entrycount + 1\n",
    "        else\n",
    "            s = s .. indent\n",
    "        end\n",
    "        if type(v) == \"table\" then\n",
    "            s = s .. \"(\" .. tostring(k) .. \", \"\n",
    "            s = s .. s_serialize(v, il + 1) .. \")\\n\"\n",
    "        else\n",
    "            s = s .. \"(\" .. tostring(k) .. \", \" .. tostring(v) .. \"),\\n\"\n",
    "        end\n",
    "    end\n",
    "    return \"[\" .. s:sub(1, #s-2) .. \"]\"\n",
    "end\n",
    "s_deserialize = function(s)\n",
    "    local state = {\n",
    "        key = \"\",\n",
    "        iskey = true,\n",
    "        isarray = 0,\n",
    "        str = \"\",\n",
    "        val = \"\",\n",
    "        obj = {},\n",
    "    }\n",
    "    for ch in s:gmatch('.') do\n",
    "        if ch:match('[a-zA-Z0-9-]') then\n",
    "            if state.iskey then\n",
    "                state.key = state.key .. ch\n",
    "            else\n",
    "                state.val = state.val .. ch\n",
    "            end\n",
    "        elseif ch == ',' then\n",
    "            state.iskey = not state.iskey\n",
    "        elseif ch == \"[\" then\n",
    "            state.isarray = state.isarray + 1\n",
    "        elseif ch == \"]\" then\n",
    "            state.isarray = state.isarray - 1\n",
    "        end\n",
    "    end\n",
    "    assert(state.isarray == 0, \"] expected\")\n",
    "    return state.obj\n",
    "end"
   ]
  },
  {
   "cell_type": "code",
   "execution_count": 17,
   "metadata": {},
   "outputs": [
    {
     "name": "stdout",
     "output_type": "stream",
     "text": [
      "[(1, 123),\n",
      "(rice, Openbox-based),\n",
      "(params, [(browser, firefox),\n",
      "\t(terminal, urxvt),\n",
      "\t(ntags, 5),\n",
      "\t(arg, [(x, asdad),\n",
      "\t\t(y, 1)]])\n",
      "(scheme, Fleon),\n",
      "(true, 1)]\n",
      "------------------------------\n"
     ]
    },
    {
     "data": {
      "text/plain": [
       "{}"
      ]
     },
     "execution_count": 17,
     "metadata": {},
     "output_type": "execute_result"
    }
   ],
   "source": [
    "ss = s_serialize(t)\n",
    "print(ss)\n",
    "print(string.rep('-', 30))\n",
    "st = s_deserialize(ss)\n",
    "return st"
   ]
  },
  {
   "cell_type": "markdown",
   "metadata": {},
   "source": [
    "- Success: I have been (...) (what you good at)\n",
    "- Strength: My real strength is (...)\n",
    "- Situation: How that strength apply to the situation  \"What I am look  for is\"\n",
    "- BTVN: Tell me about your self, introduce yourself, "
   ]
  },
  {
   "cell_type": "code",
   "execution_count": 93,
   "metadata": {},
   "outputs": [
    {
     "data": {
      "text/plain": [
       "1"
      ]
     },
     "execution_count": 93,
     "metadata": {},
     "output_type": "execute_result"
    }
   ],
   "source": [
    "return 1"
   ]
  },
  {
   "cell_type": "code",
   "execution_count": null,
   "metadata": {},
   "outputs": [],
   "source": []
  },
  {
   "cell_type": "code",
   "execution_count": null,
   "metadata": {},
   "outputs": [],
   "source": []
  },
  {
   "cell_type": "code",
   "execution_count": null,
   "metadata": {},
   "outputs": [],
   "source": []
  }
 ],
 "metadata": {
  "kernelspec": {
   "display_name": "Lua",
   "language": "lua",
   "name": "lua"
  },
  "language_info": {
   "file_extension": ".lua",
   "mimetype": "text/x-lua",
   "name": "lua",
   "version": "5.3"
  }
 },
 "nbformat": 4,
 "nbformat_minor": 4
}
