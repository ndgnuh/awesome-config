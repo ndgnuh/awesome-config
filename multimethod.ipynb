{
 "cells": [
  {
   "cell_type": "code",
   "execution_count": 4,
   "metadata": {},
   "outputs": [
    {
     "data": {
      "text/plain": [
       "{new = <function 1>,<metatable> = {__call = <function 1>}}"
      ]
     },
     "execution_count": 4,
     "metadata": {},
     "output_type": "execute_result"
    }
   ],
   "source": [
    "mm = require(\"util.multimethod\")\n",
    "return mm"
   ]
  },
  {
   "cell_type": "code",
   "execution_count": 89,
   "metadata": {},
   "outputs": [
    {
     "data": {
      "text/plain": [
       "{new = <function 1>,<metatable> = {__call = <function 2>}}"
      ]
     },
     "execution_count": 89,
     "metadata": {},
     "output_type": "execute_result"
    }
   ],
   "source": [
    "DataType = {}\n",
    "\n",
    "DataType.new = function(name, constructor, meta)\n",
    "    assert(name, \"DataType need a name\")\n",
    "    local thetype = {datatype = \"DataType\", name = name, meta = meta}\n",
    "    \n",
    "    local tostringfn = function(self)\n",
    "        local addr = tostring(self):gsub(\"table:\", \"\")\n",
    "        return function(self)\n",
    "            local ret = self.datatype .. addr\n",
    "            for k, v in pairs(self) do\n",
    "                if k ~= \"datatype\" then\n",
    "                    ret = ret .. \"\\n\\t\" .. k .. \": \" .. v\n",
    "                end\n",
    "            end\n",
    "            return ret\n",
    "        end\n",
    "    end\n",
    "    \n",
    "    if not constructor then\n",
    "        constructor = function(...)\n",
    "            local obj = {datatype = name}\n",
    "            meta = meta or {}\n",
    "            meta.__tostring = meta.__tostring or tostringfn(obj)\n",
    "            return setmetatable(obj, meta)\n",
    "        end\n",
    "    end\n",
    "    \n",
    "    local call = function(self, ...)\n",
    "        local obj = constructor(...)\n",
    "        meta = meta or {}\n",
    "        meta.__tostring = meta.__tostring or tostringfn(obj)\n",
    "        obj.datatype = self.name\n",
    "        return setmetatable(obj, meta)\n",
    "    end\n",
    "    \n",
    "    local tostring = function(self)\n",
    "        local ret = self.datatype\n",
    "        for k, v in pairs(self) do\n",
    "            ret = ret .. \"\\n\"\n",
    "        end\n",
    "    end\n",
    "    \n",
    "    return setmetatable(thetype, {__call = call, __tostring = function(self) return \"[DataType] \" .. self.name end})\n",
    "end\n",
    "DataType = setmetatable(DataType, {__call = function(self, ...) return self.new(...) end})\n",
    "return DataType"
   ]
  },
  {
   "cell_type": "code",
   "execution_count": 90,
   "metadata": {},
   "outputs": [
    {
     "name": "stdout",
     "output_type": "stream",
     "text": [
      "[DataType] Button\n",
      "Button 0x5636772a6960\n",
      "\tname: LOL button\n"
     ]
    }
   ],
   "source": [
    "Button = DataType(\"Button\", function(name) return {name = name .. \" button\"} end)\n",
    "print(Button)\n",
    "btn = Button(\"LOL\")\n",
    "print(btn)"
   ]
  },
  {
   "cell_type": "code",
   "execution_count": 91,
   "metadata": {},
   "outputs": [
    {
     "data": {
      "text/plain": [
       "{ -- Button 0x5636772a6960\\n\\tname: LOL buttondatatype = \"Button\",name = \"LOL button\",<metatable> = {__tostring = <function 1>}}"
      ]
     },
     "execution_count": 91,
     "metadata": {},
     "output_type": "execute_result"
    }
   ],
   "source": [
    "btn"
   ]
  },
  {
   "cell_type": "code",
   "execution_count": 13,
   "metadata": {},
   "outputs": [],
   "source": [
    "-- ptype = type"
   ]
  },
  {
   "cell_type": "code",
   "execution_count": 21,
   "metadata": {},
   "outputs": [
    {
     "data": {
      "text/plain": [
       "{datatype = \"Button\"}"
      ]
     },
     "execution_count": 21,
     "metadata": {},
     "output_type": "execute_result"
    }
   ],
   "source": [
    "Button()"
   ]
  },
  {
   "cell_type": "code",
   "execution_count": 14,
   "metadata": {
    "scrolled": false
   },
   "outputs": [],
   "source": [
    "type = function(x)\n",
    "    local pt = ptype(x)\n",
    "    if pt == \"table\" then\n",
    "      return x.datatype or pt\n",
    "    else\n",
    "      return pt\n",
    "    end\n",
    "end"
   ]
  },
  {
   "cell_type": "code",
   "execution_count": 30,
   "metadata": {},
   "outputs": [
    {
     "data": {
      "text/plain": [
       "nil"
      ]
     },
     "execution_count": 30,
     "metadata": {},
     "output_type": "execute_result"
    }
   ],
   "source": [
    "k"
   ]
  },
  {
   "cell_type": "code",
   "execution_count": 34,
   "metadata": {
    "scrolled": true
   },
   "outputs": [],
   "source": [
    "x = setmetatable({}, {\n",
    "        __tostring = function(self)\n",
    "            local selfnometa = setmetatable(self, {})\n",
    "            return tostring(selfnometa) .. \"Asdasdasd\"\n",
    "        end\n",
    "    })\n",
    "-- return tostring(x)"
   ]
  },
  {
   "cell_type": "code",
   "execution_count": 38,
   "metadata": {},
   "outputs": [
    {
     "data": {
      "text/plain": [
       "{ -- table: 0x563677275ba0Asdasdasd<metatable> = {__tostring = <function 1>}}"
      ]
     },
     "execution_count": 38,
     "metadata": {},
     "output_type": "execute_result"
    }
   ],
   "source": [
    "x"
   ]
  },
  {
   "cell_type": "code",
   "execution_count": 35,
   "metadata": {},
   "outputs": [
    {
     "data": {
      "text/plain": [
       "<function 1>"
      ]
     },
     "execution_count": 35,
     "metadata": {},
     "output_type": "execute_result"
    }
   ],
   "source": [
    "getmetatable(x).__tostring"
   ]
  },
  {
   "cell_type": "code",
   "execution_count": 37,
   "metadata": {},
   "outputs": [
    {
     "data": {
      "text/plain": [
       "{}"
      ]
     },
     "execution_count": 37,
     "metadata": {},
     "output_type": "execute_result"
    }
   ],
   "source": [
    "setmetatable({}, nil)"
   ]
  },
  {
   "cell_type": "code",
   "execution_count": null,
   "metadata": {},
   "outputs": [],
   "source": []
  }
 ],
 "metadata": {
  "kernelspec": {
   "display_name": "Lua",
   "language": "lua",
   "name": "lua"
  },
  "language_info": {
   "file_extension": ".lua",
   "mimetype": "text/x-lua",
   "name": "lua",
   "version": "5.3"
  }
 },
 "nbformat": 4,
 "nbformat_minor": 4
}
