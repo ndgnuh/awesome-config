{
 "cells": [
  {
   "cell_type": "code",
   "execution_count": 1,
   "metadata": {},
   "outputs": [],
   "source": [
    "package.path = package.path .. \";/usr/share/awesome/lib/?.lua;/usr/share/awesome/lib/?/init.lua\"\n",
    "gtable = require(\"gears.table\")"
   ]
  },
  {
   "cell_type": "code",
   "execution_count": 23,
   "metadata": {},
   "outputs": [],
   "source": [
    "listnode = { proto = {name = \"listnode\"} }\n",
    "\n",
    "listnode.proto.get_name = function(self) return self.name end\n",
    "\n",
    "listnode.proto.set_left = function(self, x)\n",
    "    assert(x:get_name() == \"listnode\")\n",
    "    self.__left = x\n",
    "end\n",
    "\n",
    "listnode.proto.set_right = function(self, x)\n",
    "    assert(x:get_name() == \"listnode\")\n",
    "    self.__right = x\n",
    "end\n",
    "\n",
    "listnode.proto.get_value = function(self) return self.__value end\n",
    "listnode.proto.set_value = function(self, v) self.__value = v end\n",
    "\n",
    "listnode.proto.get_left = function(self) return self.__left end\n",
    "listnode.proto.get_right = function(self) return self.__right end\n",
    "\n",
    "listnode.new = function(value, left, right)\n",
    "    local n = gtable.crush({value = value}, listnode.proto)\n",
    "    if left then n:set_left(left) end\n",
    "    if right then n:set_left(right) end\n",
    "    return n\n",
    "end"
   ]
  },
  {
   "cell_type": "code",
   "execution_count": 24,
   "metadata": {},
   "outputs": [],
   "source": [
    "head = listnode.new()\n",
    "n1 = listnode.new(1, head)"
   ]
  },
  {
   "cell_type": "code",
   "execution_count": 21,
   "metadata": {},
   "outputs": [
    {
     "data": {
      "text/plain": [
       "true"
      ]
     },
     "execution_count": 21,
     "metadata": {},
     "output_type": "execute_result"
    }
   ],
   "source": [
    "n1:get_left() == head"
   ]
  },
  {
   "cell_type": "code",
   "execution_count": 62,
   "metadata": {},
   "outputs": [],
   "source": [
    "list = { proto = {next = {}, previous = {}, len = 0}, null = {\"null\"}}\n",
    "\n",
    "list.proto.next_item = function(self, item)\n",
    "    return self.next[item]\n",
    "end\n",
    "\n",
    "list.proto.previous_item = function(self, item)\n",
    "    return self.previous[item]\n",
    "end\n",
    "\n",
    "list.proto.foreach = function(self, callback)\n",
    "    local item = 1\n",
    "    while item ~= list.null do\n",
    "        item = self[item]\n",
    "        callback(self, item)\n",
    "    end\n",
    "    return self\n",
    "end\n",
    "\n",
    "list.proto.insert_before = function(self, newitem, item)\n",
    "    \n",
    "end\n",
    "\n",
    "list.new = function()\n",
    "    local ret = {[1] = list.null}\n",
    "    return gtable.crush(ret, list.proto)\n",
    "end\n"
   ]
  },
  {
   "cell_type": "code",
   "execution_count": 63,
   "metadata": {},
   "outputs": [],
   "source": [
    "l = list.new()"
   ]
  },
  {
   "cell_type": "code",
   "execution_count": 65,
   "metadata": {},
   "outputs": [
    {
     "name": "stdout",
     "output_type": "stream",
     "text": [
      "table: 0x5601e49e10c0\ttable: 0x5601e49e0820\n"
     ]
    },
    {
     "data": {
      "text/plain": [
       "{ { \"null\" },foreach = <function 1>,insert_before = <function 2>,len = 0,next = {},next_item = <function 3>,previous = {},previous_item = <function 4>}"
      ]
     },
     "execution_count": 65,
     "metadata": {},
     "output_type": "execute_result"
    }
   ],
   "source": [
    "l:foreach(print)"
   ]
  },
  {
   "cell_type": "code",
   "execution_count": 49,
   "metadata": {},
   "outputs": [
    {
     "data": {
      "text/plain": [
       "{ 3,[3] = { \"null\" },insert = <function 1>,insert_at = <function 2>,len = 0}"
      ]
     },
     "execution_count": 49,
     "metadata": {},
     "output_type": "execute_result"
    }
   ],
   "source": [
    "l"
   ]
  },
  {
   "cell_type": "code",
   "execution_count": 54,
   "metadata": {},
   "outputs": [
    {
     "data": {
      "text/plain": [
       "{ 4,[3] = { \"null\" },[4] = 9,[9] = 3,insert = <function 1>,insert_at = <function 2>,len = 0}"
      ]
     },
     "execution_count": 54,
     "metadata": {},
     "output_type": "execute_result"
    }
   ],
   "source": [
    "l:insert_at(9, 3)"
   ]
  },
  {
   "cell_type": "code",
   "execution_count": 58,
   "metadata": {},
   "outputs": [
    {
     "data": {
      "text/plain": [
       "3"
      ]
     },
     "execution_count": 58,
     "metadata": {},
     "output_type": "execute_result"
    }
   ],
   "source": [
    "l[l[l[1]]]"
   ]
  },
  {
   "cell_type": "code",
   "execution_count": null,
   "metadata": {},
   "outputs": [],
   "source": []
  }
 ],
 "metadata": {
  "kernelspec": {
   "display_name": "Lua",
   "language": "lua",
   "name": "lua"
  },
  "language_info": {
   "file_extension": ".lua",
   "mimetype": "text/x-lua",
   "name": "lua",
   "version": "5.3"
  }
 },
 "nbformat": 4,
 "nbformat_minor": 4
}
