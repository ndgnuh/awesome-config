{
 "cells": [
  {
   "cell_type": "code",
   "execution_count": 2,
   "metadata": {},
   "outputs": [],
   "source": [
    "package.path = package.path .. \";/usr/share/awesome/lib/?.lua;/usr/share/awesome/lib/?/init.lua\""
   ]
  },
  {
   "cell_type": "code",
   "execution_count": 4,
   "metadata": {
    "collapsed": true
   },
   "outputs": [],
   "source": [
    "gtable = require(\"gears.table\")"
   ]
  },
  {
   "cell_type": "code",
   "execution_count": 47,
   "metadata": {},
   "outputs": [
    {
     "data": {
      "text/plain": [
       "{metatable = {__tostring = <function 1>},new = <function 2>,prototype = {backward = {},enqueue_at = <function 3>,forward = {},length = 0,map = <function 4>}}"
      ]
     },
     "execution_count": 47,
     "metadata": {},
     "output_type": "execute_result"
    }
   ],
   "source": [
    "gtable = require(\"gears.table\")\n",
    "\n",
    "module = {}\n",
    "\n",
    "module.prototype = {\n",
    "  forward = {},\n",
    "    backward = {},\n",
    "  length = 0,\n",
    "  start = nil,\n",
    "}\n",
    "\n",
    "-- take a call back\n",
    "-- map through the queue items\n",
    "-- util meet the start element\n",
    "module.prototype.map = function(self, callback)\n",
    "    local count = 1\n",
    "  local start = self.start\n",
    "  local item = self.forward[start]\n",
    "  assert(start and item, \"circular queue: start item not found\")\n",
    "  local results = {}\n",
    "  results[count] = callback(start, item)\n",
    "  while item ~= start do\n",
    "    count = count + 1\n",
    "    results[count] = callback(item, self.forward[item])\n",
    "    item = self.forward[item]\n",
    "  end\n",
    "  return results\n",
    "end\n",
    "\n",
    "-- enqueue item at idx of the items\n",
    "module.prototype.enqueue_at = function(self, item, idx)\n",
    "end\n",
    "\n",
    "module.metatable = {}\n",
    "module.metatable.__tostring = function(self)\n",
    "    local queue_str = self:map(function(x, y)\n",
    "        return tostring(x) .. \" => \" .. tostring(y)\n",
    "    end)\n",
    "    return table.concat(queue_str, \"\\n\")\n",
    "end\n",
    "module.new = function()\n",
    "  local queue = gtable.crush({}, module.prototype)\n",
    "  return setmetatable(queue, module.metatable)\n",
    "end\n",
    "\n",
    "return module\n"
   ]
  },
  {
   "cell_type": "code",
   "execution_count": 48,
   "metadata": {},
   "outputs": [
    {
     "name": "stdout",
     "output_type": "stream",
     "text": [
      "a => b\n",
      "b => c\n",
      "c => d\n",
      "d => a\n"
     ]
    }
   ],
   "source": [
    "q = module.new()\n",
    "q.forward = {[\"a\"] = \"b\", [\"b\"] = \"c\", [\"c\"] = \"d\", [\"d\"] = \"a\"}\n",
    "q.start = \"a\"\n",
    "print(q)"
   ]
  },
  {
   "cell_type": "code",
   "execution_count": null,
   "metadata": {},
   "outputs": [],
   "source": []
  }
 ],
 "metadata": {
  "kernelspec": {
   "display_name": "Lua",
   "language": "lua",
   "name": "lua"
  },
  "language_info": {
   "file_extension": ".lua",
   "mimetype": "text/x-lua",
   "name": "lua",
   "version": "5.3"
  }
 },
 "nbformat": 4,
 "nbformat_minor": 4
}
